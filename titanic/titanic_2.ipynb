{
 "cells": [
  {
   "attachments": {},
   "cell_type": "markdown",
   "metadata": {},
   "source": [
    "## Data loading"
   ]
  },
  {
   "cell_type": "code",
   "execution_count": 95,
   "metadata": {},
   "outputs": [],
   "source": [
    "import numpy as np\n",
    "import pandas as pd\n",
    "import seaborn as sns\n"
   ]
  },
  {
   "cell_type": "code",
   "execution_count": 96,
   "metadata": {},
   "outputs": [],
   "source": [
    "from sklearn.model_selection import train_test_split\n",
    "\n",
    "dataset_path = './data/train.csv'\n",
    "\n",
    "# Read in data\n",
    "X_full = pd.read_csv(\"./data/train.csv\", index_col='PassengerId')\n",
    "X_test_full = pd.read_csv(\"./data/test.csv\", index_col='PassengerId')\n",
    "\n",
    "# Extract target\n",
    "y = X_full.Survived\n",
    "X_full.drop(columns=['Survived'], inplace=True)\n"
   ]
  },
  {
   "cell_type": "code",
   "execution_count": 97,
   "metadata": {},
   "outputs": [],
   "source": [
    "# Split into training and testing data\n",
    "X_train_full, X_valid_full, y_train, y_valid = train_test_split(X_full, y,\n",
    "                                                                train_size=0.8, test_size=0.2,\n",
    "                                                                random_state=0)\n",
    "\n",
    "# Find the catagorical and numerical column types\n",
    "catagorical_columns = [\n",
    "    col for col in X_train_full.columns if X_train_full[col].nunique() < 10\n",
    "    and X_train_full[col].dtype == 'object']\n",
    "numerical_columns = [\n",
    "    col for col in X_train_full.columns if X_train_full[col].dtype in ['int64', 'float64']]\n",
    "\n",
    "columns_used = catagorical_columns + numerical_columns\n",
    "\n",
    "X_train = X_train_full[columns_used]\n",
    "X_valid = X_valid_full[columns_used]\n",
    "X_test = X_test_full[columns_used]\n"
   ]
  },
  {
   "cell_type": "code",
   "execution_count": 98,
   "metadata": {},
   "outputs": [
    {
     "data": {
      "text/html": [
       "<div>\n",
       "<style scoped>\n",
       "    .dataframe tbody tr th:only-of-type {\n",
       "        vertical-align: middle;\n",
       "    }\n",
       "\n",
       "    .dataframe tbody tr th {\n",
       "        vertical-align: top;\n",
       "    }\n",
       "\n",
       "    .dataframe thead th {\n",
       "        text-align: right;\n",
       "    }\n",
       "</style>\n",
       "<table border=\"1\" class=\"dataframe\">\n",
       "  <thead>\n",
       "    <tr style=\"text-align: right;\">\n",
       "      <th></th>\n",
       "      <th>Sex</th>\n",
       "      <th>Embarked</th>\n",
       "      <th>Pclass</th>\n",
       "      <th>Age</th>\n",
       "      <th>SibSp</th>\n",
       "      <th>Parch</th>\n",
       "      <th>Fare</th>\n",
       "    </tr>\n",
       "    <tr>\n",
       "      <th>PassengerId</th>\n",
       "      <th></th>\n",
       "      <th></th>\n",
       "      <th></th>\n",
       "      <th></th>\n",
       "      <th></th>\n",
       "      <th></th>\n",
       "      <th></th>\n",
       "    </tr>\n",
       "  </thead>\n",
       "  <tbody>\n",
       "    <tr>\n",
       "      <th>141</th>\n",
       "      <td>female</td>\n",
       "      <td>C</td>\n",
       "      <td>3</td>\n",
       "      <td>NaN</td>\n",
       "      <td>0</td>\n",
       "      <td>2</td>\n",
       "      <td>15.2458</td>\n",
       "    </tr>\n",
       "    <tr>\n",
       "      <th>440</th>\n",
       "      <td>male</td>\n",
       "      <td>S</td>\n",
       "      <td>2</td>\n",
       "      <td>31.0</td>\n",
       "      <td>0</td>\n",
       "      <td>0</td>\n",
       "      <td>10.5000</td>\n",
       "    </tr>\n",
       "    <tr>\n",
       "      <th>818</th>\n",
       "      <td>male</td>\n",
       "      <td>C</td>\n",
       "      <td>2</td>\n",
       "      <td>31.0</td>\n",
       "      <td>1</td>\n",
       "      <td>1</td>\n",
       "      <td>37.0042</td>\n",
       "    </tr>\n",
       "    <tr>\n",
       "      <th>379</th>\n",
       "      <td>male</td>\n",
       "      <td>C</td>\n",
       "      <td>3</td>\n",
       "      <td>20.0</td>\n",
       "      <td>0</td>\n",
       "      <td>0</td>\n",
       "      <td>4.0125</td>\n",
       "    </tr>\n",
       "    <tr>\n",
       "      <th>492</th>\n",
       "      <td>male</td>\n",
       "      <td>S</td>\n",
       "      <td>3</td>\n",
       "      <td>21.0</td>\n",
       "      <td>0</td>\n",
       "      <td>0</td>\n",
       "      <td>7.2500</td>\n",
       "    </tr>\n",
       "  </tbody>\n",
       "</table>\n",
       "</div>"
      ],
      "text/plain": [
       "                Sex Embarked  Pclass   Age  SibSp  Parch     Fare\n",
       "PassengerId                                                      \n",
       "141          female        C       3   NaN      0      2  15.2458\n",
       "440            male        S       2  31.0      0      0  10.5000\n",
       "818            male        C       2  31.0      1      1  37.0042\n",
       "379            male        C       3  20.0      0      0   4.0125\n",
       "492            male        S       3  21.0      0      0   7.2500"
      ]
     },
     "execution_count": 98,
     "metadata": {},
     "output_type": "execute_result"
    }
   ],
   "source": [
    "X_train.head()\n"
   ]
  },
  {
   "cell_type": "code",
   "execution_count": 99,
   "metadata": {},
   "outputs": [],
   "source": [
    "from sklearn.compose import ColumnTransformer\n",
    "from sklearn.pipeline import Pipeline\n",
    "from sklearn.impute import SimpleImputer\n",
    "from sklearn.preprocessing import OneHotEncoder\n",
    "\n",
    "numerical_transformer = SimpleImputer(strategy='mean')\n",
    "categorical_transformer = Pipeline(steps=[\n",
    "    ('imputer', SimpleImputer(strategy='most_frequent')),\n",
    "    ('onehot', OneHotEncoder(handle_unknown='ignore'),),\n",
    "])\n",
    "\n",
    "preprocessor = ColumnTransformer(\n",
    "    transformers=[\n",
    "        ('num', numerical_transformer, numerical_columns),\n",
    "        ('cat', categorical_transformer, catagorical_columns)\n",
    "    ])\n"
   ]
  },
  {
   "cell_type": "code",
   "execution_count": 100,
   "metadata": {},
   "outputs": [
    {
     "name": "stdout",
     "output_type": "stream",
     "text": [
      "[0]\tvalidation_0-rmse:0.47373\n",
      "[4]\tvalidation_0-rmse:0.40489\n",
      "[8]\tvalidation_0-rmse:0.36839\n",
      "[12]\tvalidation_0-rmse:0.35048\n",
      "[16]\tvalidation_0-rmse:0.34460\n"
     ]
    },
    {
     "name": "stdout",
     "output_type": "stream",
     "text": [
      "[20]\tvalidation_0-rmse:0.34434\n",
      "[24]\tvalidation_0-rmse:0.34432\n",
      "[28]\tvalidation_0-rmse:0.34476\n",
      "[32]\tvalidation_0-rmse:0.34326\n",
      "[36]\tvalidation_0-rmse:0.34155\n",
      "[40]\tvalidation_0-rmse:0.34155\n",
      "[44]\tvalidation_0-rmse:0.34124\n",
      "[48]\tvalidation_0-rmse:0.34108\n",
      "[52]\tvalidation_0-rmse:0.34199\n",
      "[55]\tvalidation_0-rmse:0.34194\n"
     ]
    },
    {
     "data": {
      "text/plain": [
       "0.8603351955307262"
      ]
     },
     "execution_count": 100,
     "metadata": {},
     "output_type": "execute_result"
    }
   ],
   "source": [
    "from xgboost import XGBRegressor\n",
    "\n",
    "model = XGBRegressor(n_estimators=500, learning_rate=0.1,\n",
    "                     early_stopping_rounds=10, n_jobs=4)\n",
    "\n",
    "clf = Pipeline(steps=[('preprocessor', preprocessor),\n",
    "                      ('model', model)\n",
    "                      ])\n",
    "\n",
    "clf.fit(X_train, y_train, model__eval_set=[\n",
    "        (preprocessor.fit_transform(X_valid), y_valid)], model__verbose=4)\n",
    "\n",
    "preds = clf.predict(X_valid)\n",
    "\n",
    "((preds > 0.5).astype(int) == y_valid).sum() / y_valid.size  # type: ignore\n"
   ]
  },
  {
   "cell_type": "code",
   "execution_count": 101,
   "metadata": {},
   "outputs": [],
   "source": [
    "final_model = XGBRegressor(n_estimators=56, learning_rate=0.1, n_jobs=4)\n",
    "\n",
    "final_pipline = Pipeline(steps=[('preprocessor', preprocessor),\n",
    "                                ('model', final_model)\n",
    "                                ])\n",
    "final_pipline.fit(X_full, y)\n",
    "predictions = (final_pipline.predict(X_test) > 0.5).astype(int).flatten()\n"
   ]
  },
  {
   "cell_type": "code",
   "execution_count": 103,
   "metadata": {},
   "outputs": [],
   "source": [
    "output = pd.DataFrame(\n",
    "    {'PassengerId': X_test.index, 'Survived': predictions})\n",
    "output.to_csv('submission.csv', index=False)\n"
   ]
  },
  {
   "cell_type": "code",
   "execution_count": null,
   "metadata": {},
   "outputs": [],
   "source": []
  }
 ],
 "metadata": {
  "kernelspec": {
   "display_name": "base",
   "language": "python",
   "name": "python3"
  },
  "language_info": {
   "codemirror_mode": {
    "name": "ipython",
    "version": 3
   },
   "file_extension": ".py",
   "mimetype": "text/x-python",
   "name": "python",
   "nbconvert_exporter": "python",
   "pygments_lexer": "ipython3",
   "version": "3.9.15"
  },
  "orig_nbformat": 4
 },
 "nbformat": 4,
 "nbformat_minor": 2
}
